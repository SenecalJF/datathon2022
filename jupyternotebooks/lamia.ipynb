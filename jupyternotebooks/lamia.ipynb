{
 "cells": [
  {
   "cell_type": "markdown",
   "metadata": {},
   "source": [
    "# Data extraction and merging\n"
   ]
  },
  {
   "cell_type": "code",
   "execution_count": 1,
   "metadata": {},
   "outputs": [
    {
     "name": "stderr",
     "output_type": "stream",
     "text": [
      "[nltk_data] Downloading package punkt to\n",
      "[nltk_data]     /Users/salhilamia/nltk_data...\n",
      "[nltk_data]   Package punkt is already up-to-date!\n",
      "/var/folders/my/5lwd7z794l5ch10f821f_jkm0000gn/T/ipykernel_5447/3106827710.py:15: MatplotlibDeprecationWarning: The seaborn styles shipped by Matplotlib are deprecated since 3.6, as they no longer correspond to the styles shipped by seaborn. However, they will remain available as 'seaborn-v0_8-<style>'. Alternatively, directly use the seaborn API instead.\n",
      "  plt.style.use('seaborn-whitegrid')\n"
     ]
    }
   ],
   "source": [
    "import numpy as np\n",
    "import pandas as pd\n",
    "import matplotlib.pyplot as plt\n",
    "\n",
    "from datetime import datetime\n",
    "import os\n",
    "import pickle\n",
    "import codecs\n",
    "import re\n",
    "from tqdm import tqdm_notebook as tqdm\n",
    "\n",
    "#For tokenizing sentences\n",
    "import nltk\n",
    "nltk.download('punkt')\n",
    "plt.style.use('seaborn-whitegrid')\n",
    "\n",
    "# Cte\n",
    "BASE_PATH = \"../data/\""
   ]
  },
  {
   "cell_type": "code",
   "execution_count": 14,
   "metadata": {},
   "outputs": [],
   "source": [
    "import numpy as np\n",
    "import pandas as pd\n",
    "import datetime as dt\n",
    "import os\n",
    "import codecs\n",
    "import io\n",
    "from lxml import etree\n",
    "from dateutil.relativedelta import *\n",
    "\n",
    "import seaborn as sns; sns.set(style=\"darkgrid\")\n",
    "import matplotlib.pyplot as plt\n",
    "import matplotlib.ticker as ticker\n",
    "\n",
    "import re\n",
    "import pickle\n",
    "from tqdm.notebook import tqdm\n",
    "\n",
    "import nltk"
   ]
  },
  {
   "cell_type": "markdown",
   "metadata": {
    "tags": []
   },
   "source": [
    "## utils"
   ]
  },
  {
   "cell_type": "markdown",
   "metadata": {},
   "source": [
    "### Reading the data"
   ]
  },
  {
   "cell_type": "markdown",
   "metadata": {},
   "source": [
    "Nous avons 6 fichiers CSV :\n",
    "- Statements : YES available right after each FOMC meeting\n",
    "- Meeting Minutes : No because available three weeks after each FOMC meeting\n",
    "- Press Conference Transcripts : YES to check\n",
    "- Meeting Transcripts : NO available five years after the meeting\n",
    "- Speeches : A considerer ça peut être interessant\n",
    "- Testimony : 'Semiannual Monetary Policy Report to the Congress'"
   ]
  },
  {
   "cell_type": "code",
   "execution_count": 1349,
   "metadata": {},
   "outputs": [],
   "source": [
    "market_data_df = pd.read_csv(\"../data/dataset/agglomerate/agglomerate_fill_with_range_v2.csv\", index_col=0)\n",
    "market_data_sentiment = pd.read_csv(\"../data/dataset/agglomerate/agglomerate_filled_sentiment.csv\")\n",
    "columns = list(market_data_df.columns)"
   ]
  },
  {
   "cell_type": "code",
   "execution_count": 1350,
   "metadata": {},
   "outputs": [
    {
     "data": {
      "text/plain": [
       "Index(['date', 'w.bcpi_BCPI_WEEKLY', 'w.bcne_BCPI_WEEKLY',\n",
       "       'w.ener_BCPI_WEEKLY', 'w.mtls_BCPI_WEEKLY', 'w.fopr_BCPI_WEEKLY',\n",
       "       'w.agri_BCPI_WEEKLY', 'w.fish_BCPI_WEEKLY', 'v39078_CA.-interest_rate',\n",
       "       'v121820_U.S.-interest_rate', 'value_FRED_CPIAUCSL', 'value_FRED_DFF',\n",
       "       'value_FRED_GDPC1', 'value_FRED_GDPPOT', 'value_FRED_HSN1F',\n",
       "       'value_FRED_PAYEMS', 'value_FRED_PCEPILFE', 'value_FRED_RRSFS',\n",
       "       'value_FRED_UNRATE', 'fxusdcad_FXUSDCAD_rsi', 'rsi_FXUSDCAD_rsi',\n",
       "       'pmi_ISM_MAN_PMI', 'index_ISM_NONMAN_NMI', '1 mo_USTREASURY_YIELD',\n",
       "       'canada_bank_sentiment_last_week', 'canada_bank_sentiment_last_2week',\n",
       "       'canada_bank_sentiment_last_month',\n",
       "       'fomc_statement_sentiment_last_week',\n",
       "       'fomc_statement_sentiment_last_2week',\n",
       "       'fomc_statement_sentiment_last_month',\n",
       "       'fomc_meeting_sentiment_last_week', 'fomc_meeting_sentiment_last_2week',\n",
       "       'fomc_meeting_sentiment_last_month', 'fomc_minutes_sentiment_last_week',\n",
       "       'fomc_minutes_sentiment_last_2week',\n",
       "       'fomc_minutes_sentiment_last_month', 'fomc_speech_sentiment_last_week',\n",
       "       'fomc_speech_sentiment_last_2week', 'fomc_speech_sentiment_last_month',\n",
       "       'fomc_presconf_sentiment_last_week',\n",
       "       'fomc_presconf_sentiment_last_2week',\n",
       "       'fomc_presconf_sentiment_last_month',\n",
       "       'fomc_testimony_sentiment_last_week',\n",
       "       'fomc_testimony_sentiment_last_2week',\n",
       "       'fomc_testimony_sentiment_last_month'],\n",
       "      dtype='object')"
      ]
     },
     "execution_count": 1350,
     "metadata": {},
     "output_type": "execute_result"
    }
   ],
   "source": [
    "market_data_sentiment.columns"
   ]
  },
  {
   "cell_type": "code",
   "execution_count": 2030,
   "metadata": {},
   "outputs": [
    {
     "data": {
      "text/html": [
       "<div>\n",
       "<style scoped>\n",
       "    .dataframe tbody tr th:only-of-type {\n",
       "        vertical-align: middle;\n",
       "    }\n",
       "\n",
       "    .dataframe tbody tr th {\n",
       "        vertical-align: top;\n",
       "    }\n",
       "\n",
       "    .dataframe thead th {\n",
       "        text-align: right;\n",
       "    }\n",
       "</style>\n",
       "<table border=\"1\" class=\"dataframe\">\n",
       "  <thead>\n",
       "    <tr style=\"text-align: right;\">\n",
       "      <th></th>\n",
       "      <th>date</th>\n",
       "      <th>fxusdcad_FXUSDCAD_rsi</th>\n",
       "      <th>fomc_statement_sentiment_last_week</th>\n",
       "      <th>canada_bank_sentiment_last_week</th>\n",
       "      <th>fomc_testimony_sentiment_last_week</th>\n",
       "    </tr>\n",
       "  </thead>\n",
       "  <tbody>\n",
       "    <tr>\n",
       "      <th>0</th>\n",
       "      <td>2017-01-04</td>\n",
       "      <td>1.331500</td>\n",
       "      <td>0.011111</td>\n",
       "      <td>0.014098</td>\n",
       "      <td>0.007442</td>\n",
       "    </tr>\n",
       "    <tr>\n",
       "      <th>1</th>\n",
       "      <td>2017-01-05</td>\n",
       "      <td>1.324400</td>\n",
       "      <td>0.022222</td>\n",
       "      <td>0.028195</td>\n",
       "      <td>0.014884</td>\n",
       "    </tr>\n",
       "    <tr>\n",
       "      <th>2</th>\n",
       "      <td>2017-01-06</td>\n",
       "      <td>1.321400</td>\n",
       "      <td>0.033333</td>\n",
       "      <td>0.042293</td>\n",
       "      <td>0.022326</td>\n",
       "    </tr>\n",
       "    <tr>\n",
       "      <th>3</th>\n",
       "      <td>2017-01-07</td>\n",
       "      <td>1.322267</td>\n",
       "      <td>0.044444</td>\n",
       "      <td>0.056391</td>\n",
       "      <td>0.029767</td>\n",
       "    </tr>\n",
       "    <tr>\n",
       "      <th>4</th>\n",
       "      <td>2017-01-08</td>\n",
       "      <td>1.323133</td>\n",
       "      <td>0.055556</td>\n",
       "      <td>0.070489</td>\n",
       "      <td>0.037209</td>\n",
       "    </tr>\n",
       "  </tbody>\n",
       "</table>\n",
       "</div>"
      ],
      "text/plain": [
       "         date  fxusdcad_FXUSDCAD_rsi  fomc_statement_sentiment_last_week  \\\n",
       "0  2017-01-04               1.331500                            0.011111   \n",
       "1  2017-01-05               1.324400                            0.022222   \n",
       "2  2017-01-06               1.321400                            0.033333   \n",
       "3  2017-01-07               1.322267                            0.044444   \n",
       "4  2017-01-08               1.323133                            0.055556   \n",
       "\n",
       "   canada_bank_sentiment_last_week  fomc_testimony_sentiment_last_week  \n",
       "0                         0.014098                            0.007442  \n",
       "1                         0.028195                            0.014884  \n",
       "2                         0.042293                            0.022326  \n",
       "3                         0.056391                            0.029767  \n",
       "4                         0.070489                            0.037209  "
      ]
     },
     "execution_count": 2030,
     "metadata": {},
     "output_type": "execute_result"
    }
   ],
   "source": [
    "market_data_df = pd.read_csv(\"../data/dataset/agglomerate/agglomerate_fill_with_range_v2.csv\", index_col=0)\n",
    "market_data_sentiment = pd.read_csv(\"../data/dataset/agglomerate/agglomerate_filled_sentiment.csv\")\n",
    "columns = list(market_data_df.columns)\n",
    "\n",
    "market_data_df = market_data_df.drop(columns[:20]+columns[20:], axis=1)\n",
    "#market_data_df = market_data_df.drop(list(market_data_df.columns)[3:], axis=1)\n",
    "market_data_df[\"date\"] = market_data_sentiment[\"date\"]\n",
    "market_data_df[\"fxusdcad_FXUSDCAD_rsi\"] = market_data_sentiment[\"fxusdcad_FXUSDCAD_rsi\"]\n",
    "market_data_df[\"fomc_statement_sentiment_last_week\"] = market_data_sentiment[\"fomc_statement_sentiment_last_week\"]\n",
    "market_data_df[\"canada_bank_sentiment_last_week\"] = market_data_sentiment[\"canada_bank_sentiment_last_week\"]\n",
    "#market_data_df[\"fomc_presconf_sentiment_last_week\"] = market_data_sentiment[\"fomc_presconf_sentiment_last_week\"]\n",
    "#market_data_df[\"fomc_minutes_sentiment_last_week\"] = market_data_sentiment[\"fomc_minutes_sentiment_last_week\"]\n",
    "market_data_df[\"fomc_testimony_sentiment_last_week\"] = market_data_sentiment[\"fomc_testimony_sentiment_last_week\"]\n",
    "market_data_df.head()"
   ]
  },
  {
   "cell_type": "markdown",
   "metadata": {
    "tags": []
   },
   "source": [
    "## Evaluation"
   ]
  },
  {
   "cell_type": "code",
   "execution_count": 2031,
   "metadata": {},
   "outputs": [],
   "source": [
    "# fill nanq of market_data_df"
   ]
  },
  {
   "cell_type": "code",
   "execution_count": 2032,
   "metadata": {},
   "outputs": [],
   "source": [
    "import pandas as pd\n",
    "from sklearn.metrics import mean_squared_error\n",
    "\n",
    "def evaluate(pred_df: pd.DataFrame, test_path_csv: str) -> float:\n",
    "    # Open test data\n",
    "    test_df = pd.read_csv(test_path_csv)\n",
    "\n",
    "    # Format data\n",
    "    test_df['date'] = pd.to_datetime(test_df['date'], format='%Y-%m-%d')\n",
    "    pred_df['date'] = pd.to_datetime(pred_df['date'], format='%Y-%m-%d')\n",
    "\n",
    "    # Inner joint dataframe\n",
    "    test_pred = test_df.merge(pred_df, on=\"date\", how=\"inner\")\n",
    "    \n",
    "    # Extract y true and y pred\n",
    "    y_true = test_pred.FXUSDCAD_x.to_numpy()\n",
    "    y_pred = test_pred.FXUSDCAD_y.to_numpy()\n",
    "\n",
    "    mse = mean_squared_error(y_true, y_pred)\n",
    "    print(f\" Mean squared error: {mse}\")\n",
    "\n",
    "    # TODO: Add other metrics\n",
    "\n",
    "    return mse"
   ]
  },
  {
   "cell_type": "markdown",
   "metadata": {
    "tags": []
   },
   "source": [
    "## remarks"
   ]
  },
  {
   "cell_type": "markdown",
   "metadata": {},
   "source": [
    "Remarque sur les textes : \n",
    "- supprimer \"[SECTION]\", les \"\\n\", les lists de nom de personnes du style \"Jerome H. Powell, Chair; John C. Williams, Vice Chair; Michael S. Barr;\"\n",
    "\n",
    "\n",
    "List des mots redondants à supprimer (à plots):\n",
    "- Committee\n",
    "- les dates\n",
    "- le début des textes"
   ]
  },
  {
   "cell_type": "markdown",
   "metadata": {},
   "source": [
    "## baseline model XGboost and Logistic regression with the features selected"
   ]
  },
  {
   "cell_type": "code",
   "execution_count": null,
   "metadata": {},
   "outputs": [],
   "source": []
  },
  {
   "cell_type": "code",
   "execution_count": 2033,
   "metadata": {},
   "outputs": [],
   "source": [
    "df2 = market_data_df.corr()"
   ]
  },
  {
   "cell_type": "code",
   "execution_count": 2034,
   "metadata": {},
   "outputs": [],
   "source": [
    "import seaborn as sns\n",
    "%matplotlib inline\n",
    "sns.set(rc={'figure.figsize':(13,13)})\n",
    "#df2 = df2.drop(market_data_df.columns[-11:]).drop(market_data_df.columns[-11:], axis=1)\n",
    "#df2= df2.drop(market_data_df.columns[12]).drop(df_market_features.columns[12], axis=1)\n",
    "#df2 = df2.drop(market_data_df.columns[13]).drop(df_market_features.columns[13], axis=1)"
   ]
  },
  {
   "cell_type": "code",
   "execution_count": 2035,
   "metadata": {},
   "outputs": [
    {
     "data": {
      "text/plain": [
       "<AxesSubplot:title={'center':'Correlation between market data'}>"
      ]
     },
     "execution_count": 2035,
     "metadata": {},
     "output_type": "execute_result"
    },
    {
     "data": {
      "image/png": "[encoded data removed]",
      "text/plain": [
       "<Figure size 936x936 with 2 Axes>"
      ]
     },
     "metadata": {},
     "output_type": "display_data"
    }
   ],
   "source": [
    "plt.title(\"Correlation between market data\")\n",
    "sns.heatmap(df2, annot=True, fmt=\".1g\")"
   ]
  },
  {
   "cell_type": "code",
   "execution_count": null,
   "metadata": {},
   "outputs": [],
   "source": []
  },
  {
   "cell_type": "markdown",
   "metadata": {},
   "source": [
    "## split train_test set"
   ]
  },
  {
   "cell_type": "code",
   "execution_count": 2036,
   "metadata": {},
   "outputs": [],
   "source": [
    "import pandas as pd\n",
    "BASE_PATH = \"../data\"\n",
    "def split_and_save(df: pd.DataFrame, date_split='2022-05-01', filename_prefix=None, output_path='', keep_index=False):\n",
    "    \"\"\" Simple function to split data set \"\"\"\n",
    "    df['date'] = pd.to_datetime(df['date'], format='%Y-%m-%d')\n",
    "\n",
    "    # Split data\n",
    "    \"\"\" Train data \"\"\"\n",
    "    train = df.loc[(df['date'] < date_split)]\n",
    "    \"\"\" Test data \"\"\"\n",
    "    test = df.loc[(df['date'] >= date_split)]\n",
    "\n",
    "    # Save Value\n",
    "    if filename_prefix != None:\n",
    "        train.to_csv(f\"{BASE_PATH}/train/{output_path}/{filename_prefix}.csv\", index=keep_index)\n",
    "        test.to_csv(f\"{BASE_PATH}/test/{output_path}/{filename_prefix}.csv\", index=keep_index)\n",
    "    \n",
    "    return train, test\n"
   ]
  },
  {
   "cell_type": "code",
   "execution_count": null,
   "metadata": {},
   "outputs": [],
   "source": []
  },
  {
   "cell_type": "code",
   "execution_count": 2037,
   "metadata": {},
   "outputs": [],
   "source": [
    "train, test = split_and_save(market_data_df,filename_prefix=\"dataset\", output_path=\"version1\")"
   ]
  },
  {
   "cell_type": "markdown",
   "metadata": {},
   "source": [
    "## x and y split"
   ]
  },
  {
   "cell_type": "code",
   "execution_count": 2038,
   "metadata": {},
   "outputs": [
    {
     "data": {
      "text/plain": [
       "Index(['date', 'fxusdcad_FXUSDCAD_rsi', 'fomc_statement_sentiment_last_week',\n",
       "       'canada_bank_sentiment_last_week',\n",
       "       'fomc_testimony_sentiment_last_week'],\n",
       "      dtype='object')"
      ]
     },
     "execution_count": 2038,
     "metadata": {},
     "output_type": "execute_result"
    }
   ],
   "source": [
    "test.columns"
   ]
  },
  {
   "cell_type": "code",
   "execution_count": 2039,
   "metadata": {},
   "outputs": [],
   "source": [
    "X_train,y_train = train.drop(['fxusdcad_FXUSDCAD_rsi','date'], axis=1).to_numpy(),train['fxusdcad_FXUSDCAD_rsi'].values\n",
    "X_test, y_test = test.drop(['fxusdcad_FXUSDCAD_rsi','date'], axis=1).to_numpy(),test['fxusdcad_FXUSDCAD_rsi'].values"
   ]
  },
  {
   "cell_type": "code",
   "execution_count": 2040,
   "metadata": {},
   "outputs": [
    {
     "data": {
      "text/plain": [
       "array([[ 0.01111111,  0.01409774,  0.00744186],\n",
       "       [ 0.02222222,  0.02819549,  0.01488372],\n",
       "       [ 0.03333333,  0.04229323,  0.02232558],\n",
       "       ...,\n",
       "       [-0.05496829,  0.17342648, -0.16193606],\n",
       "       [-0.05902044,  0.17216664, -0.16709259],\n",
       "       [-0.06307259,  0.17090681, -0.17224912]])"
      ]
     },
     "execution_count": 2040,
     "metadata": {},
     "output_type": "execute_result"
    }
   ],
   "source": [
    "X_train"
   ]
  },
  {
   "cell_type": "markdown",
   "metadata": {},
   "source": [
    "## model simple XGboost"
   ]
  },
  {
   "cell_type": "code",
   "execution_count": 2041,
   "metadata": {},
   "outputs": [
    {
     "name": "stdout",
     "output_type": "stream",
     "text": [
      "1.6.1\n"
     ]
    }
   ],
   "source": [
    "import xgboost\n",
    "from numpy import absolute\n",
    "from pandas import read_csv\n",
    "from sklearn.model_selection import cross_val_score\n",
    "from sklearn.model_selection import RepeatedKFold\n",
    "from xgboost import XGBRegressor\n",
    "print(xgboost.__version__)"
   ]
  },
  {
   "cell_type": "code",
   "execution_count": 2042,
   "metadata": {},
   "outputs": [],
   "source": [
    "model = XGBRegressor(n_estimators=1000, max_depth=5, eta=0.1, subsample=0.7, colsample_bytree=0.8)"
   ]
  },
  {
   "cell_type": "code",
   "execution_count": 2043,
   "metadata": {},
   "outputs": [],
   "source": [
    "cv = RepeatedKFold(n_splits=5, n_repeats=3, random_state=1)\n",
    "scores = cross_val_score(model, np.array(X_train), y_train, scoring='neg_mean_absolute_error', cv=cv, n_jobs=-1)"
   ]
  },
  {
   "cell_type": "code",
   "execution_count": 2044,
   "metadata": {},
   "outputs": [
    {
     "name": "stdout",
     "output_type": "stream",
     "text": [
      "Mean MAE: 0.006 (0.000)\n"
     ]
    }
   ],
   "source": [
    "scores = absolute(scores)\n",
    "print('Mean MAE: %.3f (%.3f)' % (scores.mean(), scores.std()) )"
   ]
  },
  {
   "cell_type": "code",
   "execution_count": 2045,
   "metadata": {},
   "outputs": [
    {
     "data": {
      "text/html": [
       "<style>#sk-container-id-185 {color: black;background-color: white;}#sk-container-id-185 pre{padding: 0;}#sk-container-id-185 div.sk-toggleable {background-color: white;}#sk-container-id-185 label.sk-toggleable__label {cursor: pointer;display: block;width: 100%;margin-bottom: 0;padding: 0.3em;box-sizing: border-box;text-align: center;}#sk-container-id-185 label.sk-toggleable__label-arrow:before {content: \"▸\";float: left;margin-right: 0.25em;color: #696969;}#sk-container-id-185 label.sk-toggleable__label-arrow:hover:before {color: black;}#sk-container-id-185 div.sk-estimator:hover label.sk-toggleable__label-arrow:before {color: black;}#sk-container-id-185 div.sk-toggleable__content {max-height: 0;max-width: 0;overflow: hidden;text-align: left;background-color: #f0f8ff;}#sk-container-id-185 div.sk-toggleable__content pre {margin: 0.2em;color: black;border-radius: 0.25em;background-color: #f0f8ff;}#sk-container-id-185 input.sk-toggleable__control:checked~div.sk-toggleable__content {max-height: 200px;max-width: 100%;overflow: auto;}#sk-container-id-185 input.sk-toggleable__control:checked~label.sk-toggleable__label-arrow:before {content: \"▾\";}#sk-container-id-185 div.sk-estimator input.sk-toggleable__control:checked~label.sk-toggleable__label {background-color: #d4ebff;}#sk-container-id-185 div.sk-label input.sk-toggleable__control:checked~label.sk-toggleable__label {background-color: #d4ebff;}#sk-container-id-185 input.sk-hidden--visually {border: 0;clip: rect(1px 1px 1px 1px);clip: rect(1px, 1px, 1px, 1px);height: 1px;margin: -1px;overflow: hidden;padding: 0;position: absolute;width: 1px;}#sk-container-id-185 div.sk-estimator {font-family: monospace;background-color: #f0f8ff;border: 1px dotted black;border-radius: 0.25em;box-sizing: border-box;margin-bottom: 0.5em;}#sk-container-id-185 div.sk-estimator:hover {background-color: #d4ebff;}#sk-container-id-185 div.sk-parallel-item::after {content: \"\";width: 100%;border-bottom: 1px solid gray;flex-grow: 1;}#sk-container-id-185 div.sk-label:hover label.sk-toggleable__label {background-color: #d4ebff;}#sk-container-id-185 div.sk-serial::before {content: \"\";position: absolute;border-left: 1px solid gray;box-sizing: border-box;top: 0;bottom: 0;left: 50%;z-index: 0;}#sk-container-id-185 div.sk-serial {display: flex;flex-direction: column;align-items: center;background-color: white;padding-right: 0.2em;padding-left: 0.2em;position: relative;}#sk-container-id-185 div.sk-item {position: relative;z-index: 1;}#sk-container-id-185 div.sk-parallel {display: flex;align-items: stretch;justify-content: center;background-color: white;position: relative;}#sk-container-id-185 div.sk-item::before, #sk-container-id-185 div.sk-parallel-item::before {content: \"\";position: absolute;border-left: 1px solid gray;box-sizing: border-box;top: 0;bottom: 0;left: 50%;z-index: -1;}#sk-container-id-185 div.sk-parallel-item {display: flex;flex-direction: column;z-index: 1;position: relative;background-color: white;}#sk-container-id-185 div.sk-parallel-item:first-child::after {align-self: flex-end;width: 50%;}#sk-container-id-185 div.sk-parallel-item:last-child::after {align-self: flex-start;width: 50%;}#sk-container-id-185 div.sk-parallel-item:only-child::after {width: 0;}#sk-container-id-185 div.sk-dashed-wrapped {border: 1px dashed gray;margin: 0 0.4em 0.5em 0.4em;box-sizing: border-box;padding-bottom: 0.4em;background-color: white;}#sk-container-id-185 div.sk-label label {font-family: monospace;font-weight: bold;display: inline-block;line-height: 1.2em;}#sk-container-id-185 div.sk-label-container {text-align: center;}#sk-container-id-185 div.sk-container {/* jupyter's `normalize.less` sets `[hidden] { display: none; }` but bootstrap.min.css set `[hidden] { display: none !important; }` so we also need the `!important` here to be able to override the default hidden behavior on the sphinx rendered scikit-learn.org. See: https://github.com/scikit-learn/scikit-learn/issues/21755 */display: inline-block !important;position: relative;}#sk-container-id-185 div.sk-text-repr-fallback {display: none;}</style><div id=\"sk-container-id-185\" class=\"sk-top-container\"><div class=\"sk-text-repr-fallback\"><pre>XGBRegressor(base_score=0.5, booster=&#x27;gbtree&#x27;, callbacks=None,\n",
       "             colsample_bylevel=1, colsample_bynode=1, colsample_bytree=0.8,\n",
       "             early_stopping_rounds=None, enable_categorical=False, eta=0.1,\n",
       "             eval_metric=None, gamma=0, gpu_id=-1, grow_policy=&#x27;depthwise&#x27;,\n",
       "             importance_type=None, interaction_constraints=&#x27;&#x27;,\n",
       "             learning_rate=0.100000001, max_bin=256, max_cat_to_onehot=4,\n",
       "             max_delta_step=0, max_depth=5, max_leaves=0, min_child_weight=1,\n",
       "             missing=nan, monotone_constraints=&#x27;()&#x27;, n_estimators=1000,\n",
       "             n_jobs=0, num_parallel_tree=1, predictor=&#x27;auto&#x27;, random_state=0,\n",
       "             reg_alpha=0, ...)</pre><b>In a Jupyter environment, please rerun this cell to show the HTML representation or trust the notebook. <br />On GitHub, the HTML representation is unable to render, please try loading this page with nbviewer.org.</b></div><div class=\"sk-container\" hidden><div class=\"sk-item\"><div class=\"sk-estimator sk-toggleable\"><input class=\"sk-toggleable__control sk-hidden--visually\" id=\"sk-estimator-id-185\" type=\"checkbox\" checked><label for=\"sk-estimator-id-185\" class=\"sk-toggleable__label sk-toggleable__label-arrow\">XGBRegressor</label><div class=\"sk-toggleable__content\"><pre>XGBRegressor(base_score=0.5, booster=&#x27;gbtree&#x27;, callbacks=None,\n",
       "             colsample_bylevel=1, colsample_bynode=1, colsample_bytree=0.8,\n",
       "             early_stopping_rounds=None, enable_categorical=False, eta=0.1,\n",
       "             eval_metric=None, gamma=0, gpu_id=-1, grow_policy=&#x27;depthwise&#x27;,\n",
       "             importance_type=None, interaction_constraints=&#x27;&#x27;,\n",
       "             learning_rate=0.100000001, max_bin=256, max_cat_to_onehot=4,\n",
       "             max_delta_step=0, max_depth=5, max_leaves=0, min_child_weight=1,\n",
       "             missing=nan, monotone_constraints=&#x27;()&#x27;, n_estimators=1000,\n",
       "             n_jobs=0, num_parallel_tree=1, predictor=&#x27;auto&#x27;, random_state=0,\n",
       "             reg_alpha=0, ...)</pre></div></div></div></div></div>"
      ],
      "text/plain": [
       "XGBRegressor(base_score=0.5, booster='gbtree', callbacks=None,\n",
       "             colsample_bylevel=1, colsample_bynode=1, colsample_bytree=0.8,\n",
       "             early_stopping_rounds=None, enable_categorical=False, eta=0.1,\n",
       "             eval_metric=None, gamma=0, gpu_id=-1, grow_policy='depthwise',\n",
       "             importance_type=None, interaction_constraints='',\n",
       "             learning_rate=0.100000001, max_bin=256, max_cat_to_onehot=4,\n",
       "             max_delta_step=0, max_depth=5, max_leaves=0, min_child_weight=1,\n",
       "             missing=nan, monotone_constraints='()', n_estimators=1000,\n",
       "             n_jobs=0, num_parallel_tree=1, predictor='auto', random_state=0,\n",
       "             reg_alpha=0, ...)"
      ]
     },
     "execution_count": 2045,
     "metadata": {},
     "output_type": "execute_result"
    }
   ],
   "source": [
    "model.fit(X_train, y_train)"
   ]
  },
  {
   "cell_type": "code",
   "execution_count": 2046,
   "metadata": {},
   "outputs": [],
   "source": [
    "y_test_pred  = model.predict(X_test)\n",
    "y_train_pred = model.predict(X_train)"
   ]
  },
  {
   "cell_type": "code",
   "execution_count": 2047,
   "metadata": {},
   "outputs": [
    {
     "data": {
      "text/plain": [
       "1.0163964072328459e-06"
      ]
     },
     "execution_count": 2047,
     "metadata": {},
     "output_type": "execute_result"
    }
   ],
   "source": [
    "mean_squared_error(y_train, y_train_pred)"
   ]
  },
  {
   "cell_type": "code",
   "execution_count": 2048,
   "metadata": {},
   "outputs": [
    {
     "name": "stdout",
     "output_type": "stream",
     "text": [
      " Mean squared error: 0.000418467031647579\n",
      " r2 score: 0.622469729311272\n"
     ]
    }
   ],
   "source": [
    "from sklearn.metrics import r2_score\n",
    "r2 = r2_score(y_test, y_test_pred)\n",
    "mse = mean_squared_error(y_test, y_test_pred)\n",
    "print(f\" Mean squared error: {mse}\\n r2 score: {r2}\")"
   ]
  },
  {
   "cell_type": "markdown",
   "metadata": {},
   "source": [
    "### Random forest"
   ]
  },
  {
   "cell_type": "code",
   "execution_count": 2049,
   "metadata": {},
   "outputs": [],
   "source": [
    "from sklearn.ensemble import RandomForestRegressor\n",
    "model = RandomForestRegressor(max_depth=7, random_state=0, n_estimators=100)"
   ]
  },
  {
   "cell_type": "code",
   "execution_count": 2015,
   "metadata": {},
   "outputs": [],
   "source": [
    "cv = RepeatedKFold(n_splits=5, n_repeats=3, random_state=1)\n",
    "scores = cross_val_score(model, np.array(X_train), y_train, scoring='neg_mean_absolute_error', cv=cv, n_jobs=-1)"
   ]
  },
  {
   "cell_type": "code",
   "execution_count": 2016,
   "metadata": {},
   "outputs": [
    {
     "name": "stdout",
     "output_type": "stream",
     "text": [
      "Mean MAE: 0.010 (0.001)\n"
     ]
    }
   ],
   "source": [
    "scores = absolute(scores)\n",
    "print('Mean MAE: %.3f (%.3f)' % (scores.mean(), scores.std()) )"
   ]
  },
  {
   "cell_type": "code",
   "execution_count": 2017,
   "metadata": {},
   "outputs": [
    {
     "data": {
      "text/plain": [
       "(1943, 4)"
      ]
     },
     "execution_count": 2017,
     "metadata": {},
     "output_type": "execute_result"
    }
   ],
   "source": [
    "X_train.shape"
   ]
  },
  {
   "cell_type": "code",
   "execution_count": 2018,
   "metadata": {},
   "outputs": [
    {
     "data": {
      "text/html": [
       "<style>#sk-container-id-183 {color: black;background-color: white;}#sk-container-id-183 pre{padding: 0;}#sk-container-id-183 div.sk-toggleable {background-color: white;}#sk-container-id-183 label.sk-toggleable__label {cursor: pointer;display: block;width: 100%;margin-bottom: 0;padding: 0.3em;box-sizing: border-box;text-align: center;}#sk-container-id-183 label.sk-toggleable__label-arrow:before {content: \"▸\";float: left;margin-right: 0.25em;color: #696969;}#sk-container-id-183 label.sk-toggleable__label-arrow:hover:before {color: black;}#sk-container-id-183 div.sk-estimator:hover label.sk-toggleable__label-arrow:before {color: black;}#sk-container-id-183 div.sk-toggleable__content {max-height: 0;max-width: 0;overflow: hidden;text-align: left;background-color: #f0f8ff;}#sk-container-id-183 div.sk-toggleable__content pre {margin: 0.2em;color: black;border-radius: 0.25em;background-color: #f0f8ff;}#sk-container-id-183 input.sk-toggleable__control:checked~div.sk-toggleable__content {max-height: 200px;max-width: 100%;overflow: auto;}#sk-container-id-183 input.sk-toggleable__control:checked~label.sk-toggleable__label-arrow:before {content: \"▾\";}#sk-container-id-183 div.sk-estimator input.sk-toggleable__control:checked~label.sk-toggleable__label {background-color: #d4ebff;}#sk-container-id-183 div.sk-label input.sk-toggleable__control:checked~label.sk-toggleable__label {background-color: #d4ebff;}#sk-container-id-183 input.sk-hidden--visually {border: 0;clip: rect(1px 1px 1px 1px);clip: rect(1px, 1px, 1px, 1px);height: 1px;margin: -1px;overflow: hidden;padding: 0;position: absolute;width: 1px;}#sk-container-id-183 div.sk-estimator {font-family: monospace;background-color: #f0f8ff;border: 1px dotted black;border-radius: 0.25em;box-sizing: border-box;margin-bottom: 0.5em;}#sk-container-id-183 div.sk-estimator:hover {background-color: #d4ebff;}#sk-container-id-183 div.sk-parallel-item::after {content: \"\";width: 100%;border-bottom: 1px solid gray;flex-grow: 1;}#sk-container-id-183 div.sk-label:hover label.sk-toggleable__label {background-color: #d4ebff;}#sk-container-id-183 div.sk-serial::before {content: \"\";position: absolute;border-left: 1px solid gray;box-sizing: border-box;top: 0;bottom: 0;left: 50%;z-index: 0;}#sk-container-id-183 div.sk-serial {display: flex;flex-direction: column;align-items: center;background-color: white;padding-right: 0.2em;padding-left: 0.2em;position: relative;}#sk-container-id-183 div.sk-item {position: relative;z-index: 1;}#sk-container-id-183 div.sk-parallel {display: flex;align-items: stretch;justify-content: center;background-color: white;position: relative;}#sk-container-id-183 div.sk-item::before, #sk-container-id-183 div.sk-parallel-item::before {content: \"\";position: absolute;border-left: 1px solid gray;box-sizing: border-box;top: 0;bottom: 0;left: 50%;z-index: -1;}#sk-container-id-183 div.sk-parallel-item {display: flex;flex-direction: column;z-index: 1;position: relative;background-color: white;}#sk-container-id-183 div.sk-parallel-item:first-child::after {align-self: flex-end;width: 50%;}#sk-container-id-183 div.sk-parallel-item:last-child::after {align-self: flex-start;width: 50%;}#sk-container-id-183 div.sk-parallel-item:only-child::after {width: 0;}#sk-container-id-183 div.sk-dashed-wrapped {border: 1px dashed gray;margin: 0 0.4em 0.5em 0.4em;box-sizing: border-box;padding-bottom: 0.4em;background-color: white;}#sk-container-id-183 div.sk-label label {font-family: monospace;font-weight: bold;display: inline-block;line-height: 1.2em;}#sk-container-id-183 div.sk-label-container {text-align: center;}#sk-container-id-183 div.sk-container {/* jupyter's `normalize.less` sets `[hidden] { display: none; }` but bootstrap.min.css set `[hidden] { display: none !important; }` so we also need the `!important` here to be able to override the default hidden behavior on the sphinx rendered scikit-learn.org. See: https://github.com/scikit-learn/scikit-learn/issues/21755 */display: inline-block !important;position: relative;}#sk-container-id-183 div.sk-text-repr-fallback {display: none;}</style><div id=\"sk-container-id-183\" class=\"sk-top-container\"><div class=\"sk-text-repr-fallback\"><pre>RandomForestRegressor(max_depth=7, random_state=0)</pre><b>In a Jupyter environment, please rerun this cell to show the HTML representation or trust the notebook. <br />On GitHub, the HTML representation is unable to render, please try loading this page with nbviewer.org.</b></div><div class=\"sk-container\" hidden><div class=\"sk-item\"><div class=\"sk-estimator sk-toggleable\"><input class=\"sk-toggleable__control sk-hidden--visually\" id=\"sk-estimator-id-183\" type=\"checkbox\" checked><label for=\"sk-estimator-id-183\" class=\"sk-toggleable__label sk-toggleable__label-arrow\">RandomForestRegressor</label><div class=\"sk-toggleable__content\"><pre>RandomForestRegressor(max_depth=7, random_state=0)</pre></div></div></div></div></div>"
      ],
      "text/plain": [
       "RandomForestRegressor(max_depth=7, random_state=0)"
      ]
     },
     "execution_count": 2018,
     "metadata": {},
     "output_type": "execute_result"
    }
   ],
   "source": [
    "model.fit(X_train, y_train)"
   ]
  },
  {
   "cell_type": "code",
   "execution_count": 2019,
   "metadata": {},
   "outputs": [],
   "source": [
    "y_test_pred  = model.predict(X_test)\n",
    "y_train_pred = model.predict(X_train)"
   ]
  },
  {
   "cell_type": "code",
   "execution_count": 2020,
   "metadata": {},
   "outputs": [
    {
     "name": "stdout",
     "output_type": "stream",
     "text": [
      "0.00017636188281881034\n",
      "0.9032689416751364\n"
     ]
    }
   ],
   "source": [
    "print(mean_squared_error(y_train, y_train_pred))\n",
    "print(r2_score(y_train, y_train_pred))"
   ]
  },
  {
   "cell_type": "code",
   "execution_count": 2021,
   "metadata": {},
   "outputs": [
    {
     "name": "stdout",
     "output_type": "stream",
     "text": [
      " Mean squared error: 0.0010115104141489102\n",
      " r2 score: 0.08744113256761787\n"
     ]
    }
   ],
   "source": [
    "from sklearn.metrics import r2_score\n",
    "r2 = r2_score(y_test, y_test_pred)\n",
    "mse = mean_squared_error(y_test, y_test_pred)\n",
    "print(f\" Mean squared error: {mse}\\n r2 score: {r2}\")"
   ]
  },
  {
   "cell_type": "markdown",
   "metadata": {},
   "source": [
    "### Linear regression"
   ]
  },
  {
   "cell_type": "code",
   "execution_count": 2022,
   "metadata": {},
   "outputs": [],
   "source": [
    "from sklearn.linear_model import LinearRegression\n",
    "model = LinearRegression()"
   ]
  },
  {
   "cell_type": "code",
   "execution_count": 2023,
   "metadata": {},
   "outputs": [],
   "source": [
    "cv = RepeatedKFold(n_splits=5, n_repeats=3, random_state=1)\n",
    "scores = cross_val_score(model, np.array(X_train), y_train, scoring='neg_mean_absolute_error', cv=cv, n_jobs=-1)"
   ]
  },
  {
   "cell_type": "code",
   "execution_count": 2024,
   "metadata": {},
   "outputs": [
    {
     "name": "stdout",
     "output_type": "stream",
     "text": [
      "Mean MAE: 0.025 (0.001)\n"
     ]
    }
   ],
   "source": [
    "scores = absolute(scores)\n",
    "print('Mean MAE: %.3f (%.3f)' % (scores.mean(), scores.std()) )"
   ]
  },
  {
   "cell_type": "code",
   "execution_count": 2025,
   "metadata": {},
   "outputs": [
    {
     "data": {
      "text/html": [
       "<style>#sk-container-id-184 {color: black;background-color: white;}#sk-container-id-184 pre{padding: 0;}#sk-container-id-184 div.sk-toggleable {background-color: white;}#sk-container-id-184 label.sk-toggleable__label {cursor: pointer;display: block;width: 100%;margin-bottom: 0;padding: 0.3em;box-sizing: border-box;text-align: center;}#sk-container-id-184 label.sk-toggleable__label-arrow:before {content: \"▸\";float: left;margin-right: 0.25em;color: #696969;}#sk-container-id-184 label.sk-toggleable__label-arrow:hover:before {color: black;}#sk-container-id-184 div.sk-estimator:hover label.sk-toggleable__label-arrow:before {color: black;}#sk-container-id-184 div.sk-toggleable__content {max-height: 0;max-width: 0;overflow: hidden;text-align: left;background-color: #f0f8ff;}#sk-container-id-184 div.sk-toggleable__content pre {margin: 0.2em;color: black;border-radius: 0.25em;background-color: #f0f8ff;}#sk-container-id-184 input.sk-toggleable__control:checked~div.sk-toggleable__content {max-height: 200px;max-width: 100%;overflow: auto;}#sk-container-id-184 input.sk-toggleable__control:checked~label.sk-toggleable__label-arrow:before {content: \"▾\";}#sk-container-id-184 div.sk-estimator input.sk-toggleable__control:checked~label.sk-toggleable__label {background-color: #d4ebff;}#sk-container-id-184 div.sk-label input.sk-toggleable__control:checked~label.sk-toggleable__label {background-color: #d4ebff;}#sk-container-id-184 input.sk-hidden--visually {border: 0;clip: rect(1px 1px 1px 1px);clip: rect(1px, 1px, 1px, 1px);height: 1px;margin: -1px;overflow: hidden;padding: 0;position: absolute;width: 1px;}#sk-container-id-184 div.sk-estimator {font-family: monospace;background-color: #f0f8ff;border: 1px dotted black;border-radius: 0.25em;box-sizing: border-box;margin-bottom: 0.5em;}#sk-container-id-184 div.sk-estimator:hover {background-color: #d4ebff;}#sk-container-id-184 div.sk-parallel-item::after {content: \"\";width: 100%;border-bottom: 1px solid gray;flex-grow: 1;}#sk-container-id-184 div.sk-label:hover label.sk-toggleable__label {background-color: #d4ebff;}#sk-container-id-184 div.sk-serial::before {content: \"\";position: absolute;border-left: 1px solid gray;box-sizing: border-box;top: 0;bottom: 0;left: 50%;z-index: 0;}#sk-container-id-184 div.sk-serial {display: flex;flex-direction: column;align-items: center;background-color: white;padding-right: 0.2em;padding-left: 0.2em;position: relative;}#sk-container-id-184 div.sk-item {position: relative;z-index: 1;}#sk-container-id-184 div.sk-parallel {display: flex;align-items: stretch;justify-content: center;background-color: white;position: relative;}#sk-container-id-184 div.sk-item::before, #sk-container-id-184 div.sk-parallel-item::before {content: \"\";position: absolute;border-left: 1px solid gray;box-sizing: border-box;top: 0;bottom: 0;left: 50%;z-index: -1;}#sk-container-id-184 div.sk-parallel-item {display: flex;flex-direction: column;z-index: 1;position: relative;background-color: white;}#sk-container-id-184 div.sk-parallel-item:first-child::after {align-self: flex-end;width: 50%;}#sk-container-id-184 div.sk-parallel-item:last-child::after {align-self: flex-start;width: 50%;}#sk-container-id-184 div.sk-parallel-item:only-child::after {width: 0;}#sk-container-id-184 div.sk-dashed-wrapped {border: 1px dashed gray;margin: 0 0.4em 0.5em 0.4em;box-sizing: border-box;padding-bottom: 0.4em;background-color: white;}#sk-container-id-184 div.sk-label label {font-family: monospace;font-weight: bold;display: inline-block;line-height: 1.2em;}#sk-container-id-184 div.sk-label-container {text-align: center;}#sk-container-id-184 div.sk-container {/* jupyter's `normalize.less` sets `[hidden] { display: none; }` but bootstrap.min.css set `[hidden] { display: none !important; }` so we also need the `!important` here to be able to override the default hidden behavior on the sphinx rendered scikit-learn.org. See: https://github.com/scikit-learn/scikit-learn/issues/21755 */display: inline-block !important;position: relative;}#sk-container-id-184 div.sk-text-repr-fallback {display: none;}</style><div id=\"sk-container-id-184\" class=\"sk-top-container\"><div class=\"sk-text-repr-fallback\"><pre>LinearRegression()</pre><b>In a Jupyter environment, please rerun this cell to show the HTML representation or trust the notebook. <br />On GitHub, the HTML representation is unable to render, please try loading this page with nbviewer.org.</b></div><div class=\"sk-container\" hidden><div class=\"sk-item\"><div class=\"sk-estimator sk-toggleable\"><input class=\"sk-toggleable__control sk-hidden--visually\" id=\"sk-estimator-id-184\" type=\"checkbox\" checked><label for=\"sk-estimator-id-184\" class=\"sk-toggleable__label sk-toggleable__label-arrow\">LinearRegression</label><div class=\"sk-toggleable__content\"><pre>LinearRegression()</pre></div></div></div></div></div>"
      ],
      "text/plain": [
       "LinearRegression()"
      ]
     },
     "execution_count": 2025,
     "metadata": {},
     "output_type": "execute_result"
    }
   ],
   "source": [
    "model.fit(X_train, y_train)"
   ]
  },
  {
   "cell_type": "code",
   "execution_count": 2026,
   "metadata": {},
   "outputs": [],
   "source": [
    "y_test_pred  = model.predict(X_test)\n",
    "y_train_pred = model.predict(X_train)"
   ]
  },
  {
   "cell_type": "code",
   "execution_count": 2027,
   "metadata": {},
   "outputs": [
    {
     "data": {
      "text/plain": [
       "0.0010190724503757824"
      ]
     },
     "execution_count": 2027,
     "metadata": {},
     "output_type": "execute_result"
    }
   ],
   "source": [
    "mean_squared_error(y_train, y_train_pred)"
   ]
  },
  {
   "cell_type": "code",
   "execution_count": 2028,
   "metadata": {},
   "outputs": [
    {
     "name": "stdout",
     "output_type": "stream",
     "text": [
      " Mean squared error: 0.0008478449482655445\n",
      " r2 score: 0.23509593680409724\n"
     ]
    }
   ],
   "source": [
    "from sklearn.metrics import r2_score\n",
    "r2 = r2_score(y_test, y_test_pred)\n",
    "mse = mean_squared_error(y_test, y_test_pred)\n",
    "print(f\" Mean squared error: {mse}\\n r2 score: {r2}\")"
   ]
  },
  {
   "cell_type": "markdown",
   "metadata": {},
   "source": [
    "### SVR"
   ]
  },
  {
   "cell_type": "code",
   "execution_count": 1987,
   "metadata": {},
   "outputs": [],
   "source": [
    "from sklearn.svm import SVR\n",
    "model = SVR(kernel=\"linear\", coef0=1, C=0.1, epsilon=0.2)"
   ]
  },
  {
   "cell_type": "code",
   "execution_count": 1988,
   "metadata": {},
   "outputs": [],
   "source": [
    "cv = RepeatedKFold(n_splits=5, n_repeats=3, random_state=1)\n",
    "scores = cross_val_score(model, np.array(X_train), y_train, scoring='neg_mean_absolute_error', cv=cv, n_jobs=-1)"
   ]
  },
  {
   "cell_type": "code",
   "execution_count": 1989,
   "metadata": {},
   "outputs": [
    {
     "name": "stdout",
     "output_type": "stream",
     "text": [
      "Mean MAE: 0.039 (0.001)\n"
     ]
    }
   ],
   "source": [
    "scores = absolute(scores)\n",
    "print('Mean MAE: %.3f (%.3f)' % (scores.mean(), scores.std()) )"
   ]
  },
  {
   "cell_type": "code",
   "execution_count": 1990,
   "metadata": {},
   "outputs": [
    {
     "data": {
      "text/html": [
       "<style>#sk-container-id-181 {color: black;background-color: white;}#sk-container-id-181 pre{padding: 0;}#sk-container-id-181 div.sk-toggleable {background-color: white;}#sk-container-id-181 label.sk-toggleable__label {cursor: pointer;display: block;width: 100%;margin-bottom: 0;padding: 0.3em;box-sizing: border-box;text-align: center;}#sk-container-id-181 label.sk-toggleable__label-arrow:before {content: \"▸\";float: left;margin-right: 0.25em;color: #696969;}#sk-container-id-181 label.sk-toggleable__label-arrow:hover:before {color: black;}#sk-container-id-181 div.sk-estimator:hover label.sk-toggleable__label-arrow:before {color: black;}#sk-container-id-181 div.sk-toggleable__content {max-height: 0;max-width: 0;overflow: hidden;text-align: left;background-color: #f0f8ff;}#sk-container-id-181 div.sk-toggleable__content pre {margin: 0.2em;color: black;border-radius: 0.25em;background-color: #f0f8ff;}#sk-container-id-181 input.sk-toggleable__control:checked~div.sk-toggleable__content {max-height: 200px;max-width: 100%;overflow: auto;}#sk-container-id-181 input.sk-toggleable__control:checked~label.sk-toggleable__label-arrow:before {content: \"▾\";}#sk-container-id-181 div.sk-estimator input.sk-toggleable__control:checked~label.sk-toggleable__label {background-color: #d4ebff;}#sk-container-id-181 div.sk-label input.sk-toggleable__control:checked~label.sk-toggleable__label {background-color: #d4ebff;}#sk-container-id-181 input.sk-hidden--visually {border: 0;clip: rect(1px 1px 1px 1px);clip: rect(1px, 1px, 1px, 1px);height: 1px;margin: -1px;overflow: hidden;padding: 0;position: absolute;width: 1px;}#sk-container-id-181 div.sk-estimator {font-family: monospace;background-color: #f0f8ff;border: 1px dotted black;border-radius: 0.25em;box-sizing: border-box;margin-bottom: 0.5em;}#sk-container-id-181 div.sk-estimator:hover {background-color: #d4ebff;}#sk-container-id-181 div.sk-parallel-item::after {content: \"\";width: 100%;border-bottom: 1px solid gray;flex-grow: 1;}#sk-container-id-181 div.sk-label:hover label.sk-toggleable__label {background-color: #d4ebff;}#sk-container-id-181 div.sk-serial::before {content: \"\";position: absolute;border-left: 1px solid gray;box-sizing: border-box;top: 0;bottom: 0;left: 50%;z-index: 0;}#sk-container-id-181 div.sk-serial {display: flex;flex-direction: column;align-items: center;background-color: white;padding-right: 0.2em;padding-left: 0.2em;position: relative;}#sk-container-id-181 div.sk-item {position: relative;z-index: 1;}#sk-container-id-181 div.sk-parallel {display: flex;align-items: stretch;justify-content: center;background-color: white;position: relative;}#sk-container-id-181 div.sk-item::before, #sk-container-id-181 div.sk-parallel-item::before {content: \"\";position: absolute;border-left: 1px solid gray;box-sizing: border-box;top: 0;bottom: 0;left: 50%;z-index: -1;}#sk-container-id-181 div.sk-parallel-item {display: flex;flex-direction: column;z-index: 1;position: relative;background-color: white;}#sk-container-id-181 div.sk-parallel-item:first-child::after {align-self: flex-end;width: 50%;}#sk-container-id-181 div.sk-parallel-item:last-child::after {align-self: flex-start;width: 50%;}#sk-container-id-181 div.sk-parallel-item:only-child::after {width: 0;}#sk-container-id-181 div.sk-dashed-wrapped {border: 1px dashed gray;margin: 0 0.4em 0.5em 0.4em;box-sizing: border-box;padding-bottom: 0.4em;background-color: white;}#sk-container-id-181 div.sk-label label {font-family: monospace;font-weight: bold;display: inline-block;line-height: 1.2em;}#sk-container-id-181 div.sk-label-container {text-align: center;}#sk-container-id-181 div.sk-container {/* jupyter's `normalize.less` sets `[hidden] { display: none; }` but bootstrap.min.css set `[hidden] { display: none !important; }` so we also need the `!important` here to be able to override the default hidden behavior on the sphinx rendered scikit-learn.org. See: https://github.com/scikit-learn/scikit-learn/issues/21755 */display: inline-block !important;position: relative;}#sk-container-id-181 div.sk-text-repr-fallback {display: none;}</style><div id=\"sk-container-id-181\" class=\"sk-top-container\"><div class=\"sk-text-repr-fallback\"><pre>SVR(C=0.1, coef0=1, epsilon=0.2, kernel=&#x27;linear&#x27;)</pre><b>In a Jupyter environment, please rerun this cell to show the HTML representation or trust the notebook. <br />On GitHub, the HTML representation is unable to render, please try loading this page with nbviewer.org.</b></div><div class=\"sk-container\" hidden><div class=\"sk-item\"><div class=\"sk-estimator sk-toggleable\"><input class=\"sk-toggleable__control sk-hidden--visually\" id=\"sk-estimator-id-181\" type=\"checkbox\" checked><label for=\"sk-estimator-id-181\" class=\"sk-toggleable__label sk-toggleable__label-arrow\">SVR</label><div class=\"sk-toggleable__content\"><pre>SVR(C=0.1, coef0=1, epsilon=0.2, kernel=&#x27;linear&#x27;)</pre></div></div></div></div></div>"
      ],
      "text/plain": [
       "SVR(C=0.1, coef0=1, epsilon=0.2, kernel='linear')"
      ]
     },
     "execution_count": 1990,
     "metadata": {},
     "output_type": "execute_result"
    }
   ],
   "source": [
    "model.fit(X_train, y_train)"
   ]
  },
  {
   "cell_type": "code",
   "execution_count": 1991,
   "metadata": {},
   "outputs": [],
   "source": [
    "y_test_pred  = model.predict(X_test)\n",
    "y_train_pred = model.predict(X_train)"
   ]
  },
  {
   "cell_type": "code",
   "execution_count": 1992,
   "metadata": {},
   "outputs": [
    {
     "data": {
      "text/plain": [
       "0.0024975395771430196"
      ]
     },
     "execution_count": 1992,
     "metadata": {},
     "output_type": "execute_result"
    }
   ],
   "source": [
    "mean_squared_error(y_train, y_train_pred)"
   ]
  },
  {
   "cell_type": "code",
   "execution_count": 1993,
   "metadata": {},
   "outputs": [
    {
     "name": "stdout",
     "output_type": "stream",
     "text": [
      " Mean squared error: 0.0015700181535947704\n",
      " r2 score: -0.4164302888549425\n"
     ]
    }
   ],
   "source": [
    "from sklearn.metrics import r2_score\n",
    "r2 = r2_score(y_test, y_test_pred)\n",
    "mse = mean_squared_error(y_test, y_test_pred)\n",
    "print(f\" Mean squared error: {mse}\\n r2 score: {r2}\")"
   ]
  },
  {
   "cell_type": "markdown",
   "metadata": {},
   "source": [
    "### MLP Regressor"
   ]
  },
  {
   "cell_type": "code",
   "execution_count": 1761,
   "metadata": {},
   "outputs": [],
   "source": [
    "from sklearn.preprocessing import StandardScaler\n",
    "scaler = StandardScaler()"
   ]
  },
  {
   "cell_type": "code",
   "execution_count": 1762,
   "metadata": {},
   "outputs": [],
   "source": [
    "scaler.fit(X_train)\n",
    "X_train = scaler.transform(X_train)\n",
    "X_test = scaler.transform(X_test)"
   ]
  },
  {
   "cell_type": "code",
   "execution_count": 1763,
   "metadata": {},
   "outputs": [],
   "source": [
    "from sklearn.neural_network import MLPRegressor\n",
    "model = MLPRegressor(hidden_layer_sizes=(100, 1000, 100), random_state=1, max_iter=500)"
   ]
  },
  {
   "cell_type": "code",
   "execution_count": 1764,
   "metadata": {},
   "outputs": [],
   "source": [
    "cv = RepeatedKFold(n_splits=5, n_repeats=3, random_state=1)\n",
    "scores = cross_val_score(model, np.array(X_train), y_train, scoring='neg_mean_absolute_error', cv=cv, n_jobs=-1)"
   ]
  },
  {
   "cell_type": "code",
   "execution_count": 1765,
   "metadata": {},
   "outputs": [
    {
     "name": "stdout",
     "output_type": "stream",
     "text": [
      "Mean MAE: 0.018 (0.001)\n"
     ]
    }
   ],
   "source": [
    "scores = absolute(scores)\n",
    "print('Mean MAE: %.3f (%.3f)' % (scores.mean(), scores.std()) )"
   ]
  },
  {
   "cell_type": "code",
   "execution_count": 1766,
   "metadata": {},
   "outputs": [
    {
     "data": {
      "text/html": [
       "<style>#sk-container-id-162 {color: black;background-color: white;}#sk-container-id-162 pre{padding: 0;}#sk-container-id-162 div.sk-toggleable {background-color: white;}#sk-container-id-162 label.sk-toggleable__label {cursor: pointer;display: block;width: 100%;margin-bottom: 0;padding: 0.3em;box-sizing: border-box;text-align: center;}#sk-container-id-162 label.sk-toggleable__label-arrow:before {content: \"▸\";float: left;margin-right: 0.25em;color: #696969;}#sk-container-id-162 label.sk-toggleable__label-arrow:hover:before {color: black;}#sk-container-id-162 div.sk-estimator:hover label.sk-toggleable__label-arrow:before {color: black;}#sk-container-id-162 div.sk-toggleable__content {max-height: 0;max-width: 0;overflow: hidden;text-align: left;background-color: #f0f8ff;}#sk-container-id-162 div.sk-toggleable__content pre {margin: 0.2em;color: black;border-radius: 0.25em;background-color: #f0f8ff;}#sk-container-id-162 input.sk-toggleable__control:checked~div.sk-toggleable__content {max-height: 200px;max-width: 100%;overflow: auto;}#sk-container-id-162 input.sk-toggleable__control:checked~label.sk-toggleable__label-arrow:before {content: \"▾\";}#sk-container-id-162 div.sk-estimator input.sk-toggleable__control:checked~label.sk-toggleable__label {background-color: #d4ebff;}#sk-container-id-162 div.sk-label input.sk-toggleable__control:checked~label.sk-toggleable__label {background-color: #d4ebff;}#sk-container-id-162 input.sk-hidden--visually {border: 0;clip: rect(1px 1px 1px 1px);clip: rect(1px, 1px, 1px, 1px);height: 1px;margin: -1px;overflow: hidden;padding: 0;position: absolute;width: 1px;}#sk-container-id-162 div.sk-estimator {font-family: monospace;background-color: #f0f8ff;border: 1px dotted black;border-radius: 0.25em;box-sizing: border-box;margin-bottom: 0.5em;}#sk-container-id-162 div.sk-estimator:hover {background-color: #d4ebff;}#sk-container-id-162 div.sk-parallel-item::after {content: \"\";width: 100%;border-bottom: 1px solid gray;flex-grow: 1;}#sk-container-id-162 div.sk-label:hover label.sk-toggleable__label {background-color: #d4ebff;}#sk-container-id-162 div.sk-serial::before {content: \"\";position: absolute;border-left: 1px solid gray;box-sizing: border-box;top: 0;bottom: 0;left: 50%;z-index: 0;}#sk-container-id-162 div.sk-serial {display: flex;flex-direction: column;align-items: center;background-color: white;padding-right: 0.2em;padding-left: 0.2em;position: relative;}#sk-container-id-162 div.sk-item {position: relative;z-index: 1;}#sk-container-id-162 div.sk-parallel {display: flex;align-items: stretch;justify-content: center;background-color: white;position: relative;}#sk-container-id-162 div.sk-item::before, #sk-container-id-162 div.sk-parallel-item::before {content: \"\";position: absolute;border-left: 1px solid gray;box-sizing: border-box;top: 0;bottom: 0;left: 50%;z-index: -1;}#sk-container-id-162 div.sk-parallel-item {display: flex;flex-direction: column;z-index: 1;position: relative;background-color: white;}#sk-container-id-162 div.sk-parallel-item:first-child::after {align-self: flex-end;width: 50%;}#sk-container-id-162 div.sk-parallel-item:last-child::after {align-self: flex-start;width: 50%;}#sk-container-id-162 div.sk-parallel-item:only-child::after {width: 0;}#sk-container-id-162 div.sk-dashed-wrapped {border: 1px dashed gray;margin: 0 0.4em 0.5em 0.4em;box-sizing: border-box;padding-bottom: 0.4em;background-color: white;}#sk-container-id-162 div.sk-label label {font-family: monospace;font-weight: bold;display: inline-block;line-height: 1.2em;}#sk-container-id-162 div.sk-label-container {text-align: center;}#sk-container-id-162 div.sk-container {/* jupyter's `normalize.less` sets `[hidden] { display: none; }` but bootstrap.min.css set `[hidden] { display: none !important; }` so we also need the `!important` here to be able to override the default hidden behavior on the sphinx rendered scikit-learn.org. See: https://github.com/scikit-learn/scikit-learn/issues/21755 */display: inline-block !important;position: relative;}#sk-container-id-162 div.sk-text-repr-fallback {display: none;}</style><div id=\"sk-container-id-162\" class=\"sk-top-container\"><div class=\"sk-text-repr-fallback\"><pre>MLPRegressor(hidden_layer_sizes=(100, 1000, 100), max_iter=500, random_state=1)</pre><b>In a Jupyter environment, please rerun this cell to show the HTML representation or trust the notebook. <br />On GitHub, the HTML representation is unable to render, please try loading this page with nbviewer.org.</b></div><div class=\"sk-container\" hidden><div class=\"sk-item\"><div class=\"sk-estimator sk-toggleable\"><input class=\"sk-toggleable__control sk-hidden--visually\" id=\"sk-estimator-id-162\" type=\"checkbox\" checked><label for=\"sk-estimator-id-162\" class=\"sk-toggleable__label sk-toggleable__label-arrow\">MLPRegressor</label><div class=\"sk-toggleable__content\"><pre>MLPRegressor(hidden_layer_sizes=(100, 1000, 100), max_iter=500, random_state=1)</pre></div></div></div></div></div>"
      ],
      "text/plain": [
       "MLPRegressor(hidden_layer_sizes=(100, 1000, 100), max_iter=500, random_state=1)"
      ]
     },
     "execution_count": 1766,
     "metadata": {},
     "output_type": "execute_result"
    }
   ],
   "source": [
    "model.fit(X_train, y_train)"
   ]
  },
  {
   "cell_type": "code",
   "execution_count": 1767,
   "metadata": {},
   "outputs": [],
   "source": [
    "y_test_pred  = model.predict(X_test)\n",
    "y_train_pred = model.predict(X_train)"
   ]
  },
  {
   "cell_type": "code",
   "execution_count": 1768,
   "metadata": {},
   "outputs": [
    {
     "data": {
      "text/plain": [
       "0.0004541680617724393"
      ]
     },
     "execution_count": 1768,
     "metadata": {},
     "output_type": "execute_result"
    }
   ],
   "source": [
    "mean_squared_error(y_train, y_train_pred)"
   ]
  },
  {
   "cell_type": "code",
   "execution_count": 1769,
   "metadata": {},
   "outputs": [
    {
     "name": "stdout",
     "output_type": "stream",
     "text": [
      " Mean squared error: 0.0013609795923837857\n",
      " r2 score: -0.22784103658422095\n"
     ]
    }
   ],
   "source": [
    "from sklearn.metrics import r2_score\n",
    "r2 = r2_score(y_test, y_test_pred)\n",
    "mse = mean_squared_error(y_test, y_test_pred)\n",
    "print(f\" Mean squared error: {mse}\\n r2 score: {r2}\")"
   ]
  },
  {
   "cell_type": "code",
   "execution_count": 1770,
   "metadata": {},
   "outputs": [
    {
     "data": {
      "text/plain": [
       "array([1.28059809, 1.28198406, 1.28555501, 1.29838269, 1.31106305,\n",
       "       1.31228662, 1.30954389, 1.30733825, 1.30485196, 1.28232301,\n",
       "       1.28059097, 1.29071478, 1.28931143, 1.29257553, 1.2961463 ,\n",
       "       1.29885464, 1.29811851, 1.28767173, 1.2991808 , 1.30692322,\n",
       "       1.30875786, 1.31031035, 1.31190089, 1.31340378, 1.30080394,\n",
       "       1.30011927, 1.30554753, 1.31053034, 1.31372767, 1.31612231,\n",
       "       1.3209635 , 1.31758079, 1.37170951, 1.35923804, 1.35344371,\n",
       "       1.34651178, 1.34025583, 1.32659477, 1.30275513, 1.29737368,\n",
       "       1.28059207, 1.28322278, 1.28696468, 1.29294541, 1.31176074,\n",
       "       1.31068717, 1.30359346, 1.32526424, 1.32394068, 1.32299742,\n",
       "       1.32177462, 1.30644318, 1.2988602 , 1.28799447, 1.27796763,\n",
       "       1.27223775, 1.26778514, 1.26409151, 1.2580484 , 1.25735392,\n",
       "       1.26348273, 1.26583415, 1.27003551, 1.27321027, 1.27789573,\n",
       "       1.29067636, 1.25568098, 1.25133549, 1.27343388, 1.27071104,\n",
       "       1.26822385, 1.26705165, 1.2604213 , 1.25953234, 1.26090206,\n",
       "       1.26296454, 1.25693486, 1.2523173 , 1.25175014, 1.26758988,\n",
       "       1.2535209 , 1.26000232, 1.25541465, 1.28220328, 1.25988785,\n",
       "       1.26535635, 1.26451825, 1.26104288, 1.26276907, 1.27734363,\n",
       "       1.26387228, 1.28859616, 1.28889497, 1.26622975, 1.26787643,\n",
       "       1.27097674, 1.28284621, 1.28807411, 1.29318097, 1.27467269,\n",
       "       1.27509409, 1.27705422, 1.29492905, 1.28876781, 1.29354131,\n",
       "       1.29901908, 1.29620163, 1.29818187, 1.3009664 , 1.2943265 ,\n",
       "       1.29771326, 1.29834181, 1.30513568, 1.30491634, 1.30465848,\n",
       "       1.30625976, 1.30620281, 1.30238756, 1.30518603, 1.31199508,\n",
       "       1.31379272, 1.31463555, 1.31214533, 1.31719485, 1.31882242,\n",
       "       1.3201583 , 1.32066953, 1.31680424, 1.30625594, 1.31806189,\n",
       "       1.31036918, 1.31233465, 1.31531885, 1.31963065, 1.31299099,\n",
       "       1.32503366, 1.3230746 , 1.32412766, 1.30129663, 1.30069053,\n",
       "       1.3039659 , 1.31206324, 1.31581917, 1.31936778, 1.32239024,\n",
       "       1.31945831, 1.32184666, 1.3310279 , 1.3327811 , 1.31718202,\n",
       "       1.28814344, 1.28545339, 1.2876247 ])"
      ]
     },
     "execution_count": 1770,
     "metadata": {},
     "output_type": "execute_result"
    }
   ],
   "source": [
    "y_test_pred"
   ]
  },
  {
   "cell_type": "markdown",
   "metadata": {},
   "source": [
    "### LSTM"
   ]
  },
  {
   "cell_type": "code",
   "execution_count": 1771,
   "metadata": {},
   "outputs": [],
   "source": [
    "import tensorflow as tf\n",
    "from tensorflow.keras.models import Sequential\n",
    "from tensorflow.keras.layers import Dense\n",
    "from tensorflow.keras.layers import LSTM\n",
    "from tensorflow.keras.layers import SimpleRNN\n",
    "from sklearn.preprocessing import MinMaxScaler\n",
    "from sklearn.metrics import mean_squared_error\n",
    "from sklearn.metrics import r2_score"
   ]
  },
  {
   "cell_type": "code",
   "execution_count": 1772,
   "metadata": {},
   "outputs": [],
   "source": [
    "tf.random.set_seed(7)"
   ]
  },
  {
   "cell_type": "code",
   "execution_count": 1773,
   "metadata": {},
   "outputs": [],
   "source": [
    "# reshape input to be [samples, time steps, features]\n",
    "trainX = np.reshape(X_train, (X_train.shape[0], 1, X_train.shape[1]))\n",
    "testX = np.reshape(X_test, (X_test.shape[0], 1, X_test.shape[1]))"
   ]
  },
  {
   "cell_type": "code",
   "execution_count": 1774,
   "metadata": {
    "scrolled": true
   },
   "outputs": [
    {
     "name": "stdout",
     "output_type": "stream",
     "text": [
      "Model: \"sequential_16\"\n",
      "_________________________________________________________________\n",
      " Layer (type)                Output Shape              Param #   \n",
      "=================================================================\n",
      " simple_rnn_17 (SimpleRNN)   (None, 1, 64)             4416      \n",
      "                                                                 \n",
      " simple_rnn_18 (SimpleRNN)   (None, 1, 32)             3104      \n",
      "                                                                 \n",
      " dense_13 (Dense)            (None, 1, 1)              33        \n",
      "                                                                 \n",
      "=================================================================\n",
      "Total params: 7,553\n",
      "Trainable params: 7,553\n",
      "Non-trainable params: 0\n",
      "_________________________________________________________________\n",
      "Epoch 1/100\n",
      "1943/1943 - 3s - loss: 0.0408 - 3s/epoch - 1ms/step\n",
      "Epoch 2/100\n",
      "1943/1943 - 2s - loss: 0.0064 - 2s/epoch - 954us/step\n",
      "Epoch 3/100\n",
      "1943/1943 - 2s - loss: 0.0039 - 2s/epoch - 939us/step\n",
      "Epoch 4/100\n",
      "1943/1943 - 2s - loss: 0.0025 - 2s/epoch - 875us/step\n",
      "Epoch 5/100\n",
      "1943/1943 - 2s - loss: 0.0022 - 2s/epoch - 855us/step\n",
      "Epoch 6/100\n",
      "1943/1943 - 2s - loss: 0.0017 - 2s/epoch - 868us/step\n",
      "Epoch 7/100\n",
      "1943/1943 - 2s - loss: 0.0016 - 2s/epoch - 860us/step\n",
      "Epoch 8/100\n",
      "1943/1943 - 2s - loss: 0.0014 - 2s/epoch - 877us/step\n",
      "Epoch 9/100\n",
      "1943/1943 - 2s - loss: 0.0012 - 2s/epoch - 879us/step\n",
      "Epoch 10/100\n",
      "1943/1943 - 2s - loss: 0.0012 - 2s/epoch - 843us/step\n",
      "Epoch 11/100\n",
      "1943/1943 - 2s - loss: 0.0011 - 2s/epoch - 859us/step\n",
      "Epoch 12/100\n",
      "1943/1943 - 2s - loss: 0.0011 - 2s/epoch - 854us/step\n",
      "Epoch 13/100\n",
      "1943/1943 - 2s - loss: 0.0011 - 2s/epoch - 867us/step\n",
      "Epoch 14/100\n",
      "1943/1943 - 2s - loss: 9.7668e-04 - 2s/epoch - 855us/step\n",
      "Epoch 15/100\n",
      "1943/1943 - 2s - loss: 0.0010 - 2s/epoch - 858us/step\n",
      "Epoch 16/100\n",
      "1943/1943 - 2s - loss: 9.5698e-04 - 2s/epoch - 860us/step\n",
      "Epoch 17/100\n",
      "1943/1943 - 2s - loss: 9.3481e-04 - 2s/epoch - 860us/step\n",
      "Epoch 18/100\n",
      "1943/1943 - 2s - loss: 9.1818e-04 - 2s/epoch - 854us/step\n",
      "Epoch 19/100\n",
      "1943/1943 - 2s - loss: 9.2034e-04 - 2s/epoch - 841us/step\n",
      "Epoch 20/100\n",
      "1943/1943 - 2s - loss: 8.9299e-04 - 2s/epoch - 855us/step\n",
      "Epoch 21/100\n",
      "1943/1943 - 2s - loss: 8.7289e-04 - 2s/epoch - 850us/step\n",
      "Epoch 22/100\n",
      "1943/1943 - 2s - loss: 8.7407e-04 - 2s/epoch - 845us/step\n",
      "Epoch 23/100\n",
      "1943/1943 - 2s - loss: 8.7014e-04 - 2s/epoch - 863us/step\n",
      "Epoch 24/100\n",
      "1943/1943 - 2s - loss: 8.5482e-04 - 2s/epoch - 861us/step\n",
      "Epoch 25/100\n",
      "1943/1943 - 2s - loss: 8.4756e-04 - 2s/epoch - 878us/step\n",
      "Epoch 26/100\n",
      "1943/1943 - 2s - loss: 8.3793e-04 - 2s/epoch - 863us/step\n",
      "Epoch 27/100\n",
      "1943/1943 - 2s - loss: 8.3214e-04 - 2s/epoch - 859us/step\n",
      "Epoch 28/100\n",
      "1943/1943 - 2s - loss: 8.1842e-04 - 2s/epoch - 848us/step\n",
      "Epoch 29/100\n",
      "1943/1943 - 2s - loss: 8.2522e-04 - 2s/epoch - 874us/step\n",
      "Epoch 30/100\n",
      "1943/1943 - 2s - loss: 8.0087e-04 - 2s/epoch - 878us/step\n",
      "Epoch 31/100\n",
      "1943/1943 - 2s - loss: 8.0180e-04 - 2s/epoch - 944us/step\n",
      "Epoch 32/100\n",
      "1943/1943 - 2s - loss: 8.0076e-04 - 2s/epoch - 925us/step\n",
      "Epoch 33/100\n",
      "1943/1943 - 2s - loss: 7.8128e-04 - 2s/epoch - 944us/step\n",
      "Epoch 34/100\n",
      "1943/1943 - 2s - loss: 7.9847e-04 - 2s/epoch - 943us/step\n",
      "Epoch 35/100\n",
      "1943/1943 - 2s - loss: 7.7842e-04 - 2s/epoch - 963us/step\n",
      "Epoch 36/100\n",
      "1943/1943 - 2s - loss: 7.5577e-04 - 2s/epoch - 954us/step\n",
      "Epoch 37/100\n",
      "1943/1943 - 2s - loss: 7.7387e-04 - 2s/epoch - 889us/step\n",
      "Epoch 38/100\n",
      "1943/1943 - 2s - loss: 7.5347e-04 - 2s/epoch - 891us/step\n",
      "Epoch 39/100\n",
      "1943/1943 - 2s - loss: 7.5465e-04 - 2s/epoch - 954us/step\n",
      "Epoch 40/100\n",
      "1943/1943 - 2s - loss: 7.4392e-04 - 2s/epoch - 926us/step\n",
      "Epoch 41/100\n",
      "1943/1943 - 2s - loss: 7.0594e-04 - 2s/epoch - 944us/step\n",
      "Epoch 42/100\n",
      "1943/1943 - 2s - loss: 7.1142e-04 - 2s/epoch - 960us/step\n",
      "Epoch 43/100\n",
      "1943/1943 - 2s - loss: 6.9942e-04 - 2s/epoch - 877us/step\n",
      "Epoch 44/100\n",
      "1943/1943 - 2s - loss: 6.7597e-04 - 2s/epoch - 872us/step\n",
      "Epoch 45/100\n",
      "1943/1943 - 2s - loss: 6.6443e-04 - 2s/epoch - 888us/step\n",
      "Epoch 46/100\n",
      "1943/1943 - 2s - loss: 6.3271e-04 - 2s/epoch - 861us/step\n",
      "Epoch 47/100\n",
      "1943/1943 - 2s - loss: 6.2127e-04 - 2s/epoch - 863us/step\n",
      "Epoch 48/100\n",
      "1943/1943 - 2s - loss: 6.1922e-04 - 2s/epoch - 868us/step\n",
      "Epoch 49/100\n",
      "1943/1943 - 2s - loss: 5.9863e-04 - 2s/epoch - 861us/step\n",
      "Epoch 50/100\n",
      "1943/1943 - 2s - loss: 6.0117e-04 - 2s/epoch - 857us/step\n",
      "Epoch 51/100\n",
      "1943/1943 - 2s - loss: 5.9108e-04 - 2s/epoch - 864us/step\n",
      "Epoch 52/100\n",
      "1943/1943 - 2s - loss: 5.7794e-04 - 2s/epoch - 857us/step\n",
      "Epoch 53/100\n",
      "1943/1943 - 2s - loss: 5.5721e-04 - 2s/epoch - 868us/step\n",
      "Epoch 54/100\n",
      "1943/1943 - 2s - loss: 5.6000e-04 - 2s/epoch - 868us/step\n",
      "Epoch 55/100\n",
      "1943/1943 - 2s - loss: 5.3191e-04 - 2s/epoch - 859us/step\n",
      "Epoch 56/100\n",
      "1943/1943 - 2s - loss: 5.3136e-04 - 2s/epoch - 850us/step\n",
      "Epoch 57/100\n",
      "1943/1943 - 2s - loss: 5.3401e-04 - 2s/epoch - 859us/step\n",
      "Epoch 58/100\n",
      "1943/1943 - 2s - loss: 5.2720e-04 - 2s/epoch - 862us/step\n",
      "Epoch 59/100\n",
      "1943/1943 - 2s - loss: 5.2169e-04 - 2s/epoch - 863us/step\n",
      "Epoch 60/100\n",
      "1943/1943 - 2s - loss: 5.1889e-04 - 2s/epoch - 867us/step\n",
      "Epoch 61/100\n",
      "1943/1943 - 2s - loss: 4.9788e-04 - 2s/epoch - 861us/step\n",
      "Epoch 62/100\n",
      "1943/1943 - 2s - loss: 4.8927e-04 - 2s/epoch - 854us/step\n",
      "Epoch 63/100\n",
      "1943/1943 - 2s - loss: 5.0339e-04 - 2s/epoch - 846us/step\n",
      "Epoch 64/100\n",
      "1943/1943 - 2s - loss: 4.9483e-04 - 2s/epoch - 848us/step\n",
      "Epoch 65/100\n",
      "1943/1943 - 2s - loss: 5.0218e-04 - 2s/epoch - 852us/step\n",
      "Epoch 66/100\n",
      "1943/1943 - 2s - loss: 4.6898e-04 - 2s/epoch - 862us/step\n",
      "Epoch 67/100\n",
      "1943/1943 - 2s - loss: 4.9063e-04 - 2s/epoch - 860us/step\n",
      "Epoch 68/100\n",
      "1943/1943 - 2s - loss: 4.8585e-04 - 2s/epoch - 851us/step\n",
      "Epoch 69/100\n",
      "1943/1943 - 2s - loss: 4.7789e-04 - 2s/epoch - 852us/step\n",
      "Epoch 70/100\n",
      "1943/1943 - 2s - loss: 4.8930e-04 - 2s/epoch - 863us/step\n",
      "Epoch 71/100\n",
      "1943/1943 - 2s - loss: 4.7066e-04 - 2s/epoch - 1ms/step\n",
      "Epoch 72/100\n",
      "1943/1943 - 2s - loss: 4.9040e-04 - 2s/epoch - 1ms/step\n",
      "Epoch 73/100\n",
      "1943/1943 - 2s - loss: 4.5894e-04 - 2s/epoch - 1ms/step\n",
      "Epoch 74/100\n",
      "1943/1943 - 2s - loss: 4.7853e-04 - 2s/epoch - 1ms/step\n",
      "Epoch 75/100\n",
      "1943/1943 - 2s - loss: 4.7776e-04 - 2s/epoch - 1ms/step\n",
      "Epoch 76/100\n",
      "1943/1943 - 2s - loss: 4.5961e-04 - 2s/epoch - 933us/step\n",
      "Epoch 77/100\n",
      "1943/1943 - 2s - loss: 4.6691e-04 - 2s/epoch - 872us/step\n",
      "Epoch 78/100\n",
      "1943/1943 - 2s - loss: 4.5958e-04 - 2s/epoch - 860us/step\n",
      "Epoch 79/100\n",
      "1943/1943 - 2s - loss: 4.5880e-04 - 2s/epoch - 867us/step\n",
      "Epoch 80/100\n",
      "1943/1943 - 2s - loss: 4.6558e-04 - 2s/epoch - 866us/step\n",
      "Epoch 81/100\n",
      "1943/1943 - 2s - loss: 4.6521e-04 - 2s/epoch - 862us/step\n",
      "Epoch 82/100\n",
      "1943/1943 - 2s - loss: 4.7187e-04 - 2s/epoch - 871us/step\n",
      "Epoch 83/100\n",
      "1943/1943 - 2s - loss: 4.4644e-04 - 2s/epoch - 852us/step\n",
      "Epoch 84/100\n",
      "1943/1943 - 2s - loss: 4.3622e-04 - 2s/epoch - 854us/step\n",
      "Epoch 85/100\n",
      "1943/1943 - 2s - loss: 4.5646e-04 - 2s/epoch - 851us/step\n",
      "Epoch 86/100\n",
      "1943/1943 - 2s - loss: 4.4316e-04 - 2s/epoch - 854us/step\n",
      "Epoch 87/100\n",
      "1943/1943 - 2s - loss: 4.6505e-04 - 2s/epoch - 849us/step\n",
      "Epoch 88/100\n",
      "1943/1943 - 2s - loss: 4.5783e-04 - 2s/epoch - 869us/step\n",
      "Epoch 89/100\n",
      "1943/1943 - 2s - loss: 4.3613e-04 - 2s/epoch - 853us/step\n",
      "Epoch 90/100\n",
      "1943/1943 - 2s - loss: 4.4527e-04 - 2s/epoch - 842us/step\n",
      "Epoch 91/100\n",
      "1943/1943 - 2s - loss: 4.3966e-04 - 2s/epoch - 855us/step\n",
      "Epoch 92/100\n",
      "1943/1943 - 2s - loss: 4.3292e-04 - 2s/epoch - 862us/step\n",
      "Epoch 93/100\n",
      "1943/1943 - 2s - loss: 4.4520e-04 - 2s/epoch - 877us/step\n",
      "Epoch 94/100\n",
      "1943/1943 - 2s - loss: 4.3930e-04 - 2s/epoch - 923us/step\n",
      "Epoch 95/100\n",
      "1943/1943 - 2s - loss: 4.3880e-04 - 2s/epoch - 1000us/step\n",
      "Epoch 96/100\n",
      "1943/1943 - 2s - loss: 4.3890e-04 - 2s/epoch - 1ms/step\n",
      "Epoch 97/100\n",
      "1943/1943 - 2s - loss: 4.2947e-04 - 2s/epoch - 1ms/step\n",
      "Epoch 98/100\n",
      "1943/1943 - 2s - loss: 4.2436e-04 - 2s/epoch - 1ms/step\n",
      "Epoch 99/100\n",
      "1943/1943 - 2s - loss: 4.3502e-04 - 2s/epoch - 1ms/step\n",
      "Epoch 100/100\n",
      "1943/1943 - 2s - loss: 4.3470e-04 - 2s/epoch - 1ms/step\n"
     ]
    },
    {
     "data": {
      "text/plain": [
       "<keras.callbacks.History at 0x7ff54ff02d90>"
      ]
     },
     "execution_count": 1774,
     "metadata": {},
     "output_type": "execute_result"
    }
   ],
   "source": [
    "# create and fit the LSTM network\n",
    "model = Sequential()\n",
    "model.add(SimpleRNN(64, input_shape=(1, trainX.shape[2]), return_sequences=True))\n",
    "model.add(SimpleRNN(32, return_sequences=True))\n",
    "model.add(Dense(1))\n",
    "model.compile(loss='mean_squared_error', optimizer='adam')\n",
    "model.summary()\n",
    "model.fit(trainX, y_train, epochs=100, batch_size=1, verbose=2)"
   ]
  },
  {
   "cell_type": "code",
   "execution_count": 1775,
   "metadata": {},
   "outputs": [],
   "source": [
    "y_test_pred  = model.predict(testX)\n",
    "y_train_pred = model.predict(trainX)"
   ]
  },
  {
   "cell_type": "code",
   "execution_count": 1776,
   "metadata": {},
   "outputs": [
    {
     "name": "stdout",
     "output_type": "stream",
     "text": [
      "0.0003796921854612931\n",
      "0.7917462302492841\n"
     ]
    }
   ],
   "source": [
    "print(mean_squared_error(y_train, y_train_pred.reshape(-1)))\n",
    "print(r2_score(y_train, y_train_pred.reshape(-1)))"
   ]
  },
  {
   "cell_type": "code",
   "execution_count": 1777,
   "metadata": {},
   "outputs": [
    {
     "name": "stdout",
     "output_type": "stream",
     "text": [
      "0.001185787065320302\n",
      "-0.06978681208650461\n"
     ]
    }
   ],
   "source": [
    "print(mean_squared_error(y_test, y_test_pred.reshape(-1)))\n",
    "print(r2_score(y_test, y_test_pred.reshape(-1)))"
   ]
  },
  {
   "cell_type": "markdown",
   "metadata": {},
   "source": [
    "## model simple XGboost"
   ]
  },
  {
   "cell_type": "code",
   "execution_count": 1005,
   "metadata": {},
   "outputs": [
    {
     "data": {
      "text/plain": [
       "array([[[1.2590377]],\n",
       "\n",
       "       [[1.2590308]],\n",
       "\n",
       "       [[1.2589427]],\n",
       "\n",
       "       [[1.2587725]],\n",
       "\n",
       "       [[1.2584879]],\n",
       "\n",
       "       [[1.2583025]],\n",
       "\n",
       "       [[1.258096 ]],\n",
       "\n",
       "       [[1.2578684]],\n",
       "\n",
       "       [[1.2576202]],\n",
       "\n",
       "       [[1.2573515]],\n",
       "\n",
       "       [[1.2570629]],\n",
       "\n",
       "       [[1.2567811]],\n",
       "\n",
       "       [[1.256474 ]],\n",
       "\n",
       "       [[1.2561431]],\n",
       "\n",
       "       [[1.25579  ]],\n",
       "\n",
       "       [[1.2554162]],\n",
       "\n",
       "       [[1.2550237]],\n",
       "\n",
       "       [[1.254615 ]],\n",
       "\n",
       "       [[1.254151 ]],\n",
       "\n",
       "       [[1.2536736]],\n",
       "\n",
       "       [[1.2531866]],\n",
       "\n",
       "       [[1.2526939]],\n",
       "\n",
       "       [[1.2522005]],\n",
       "\n",
       "       [[1.2517105]],\n",
       "\n",
       "       [[1.25123  ]],\n",
       "\n",
       "       [[1.2514653]],\n",
       "\n",
       "       [[1.2517029]],\n",
       "\n",
       "       [[1.2521031]],\n",
       "\n",
       "       [[1.2525058]],\n",
       "\n",
       "       [[1.2529106]],\n",
       "\n",
       "       [[1.253317 ]],\n",
       "\n",
       "       [[1.2537246]],\n",
       "\n",
       "       [[1.2539185]],\n",
       "\n",
       "       [[1.2546835]],\n",
       "\n",
       "       [[1.2554411]],\n",
       "\n",
       "       [[1.2561901]],\n",
       "\n",
       "       [[1.256929 ]],\n",
       "\n",
       "       [[1.2576566]],\n",
       "\n",
       "       [[1.2583717]],\n",
       "\n",
       "       [[1.2588725]],\n",
       "\n",
       "       [[1.259365 ]],\n",
       "\n",
       "       [[1.2598495]],\n",
       "\n",
       "       [[1.260327 ]],\n",
       "\n",
       "       [[1.2607973]],\n",
       "\n",
       "       [[1.2612607]],\n",
       "\n",
       "       [[1.2617179]],\n",
       "\n",
       "       [[1.2624975]],\n",
       "\n",
       "       [[1.2629493]],\n",
       "\n",
       "       [[1.263391 ]],\n",
       "\n",
       "       [[1.2638226]],\n",
       "\n",
       "       [[1.2642438]],\n",
       "\n",
       "       [[1.2646544]],\n",
       "\n",
       "       [[1.2650543]],\n",
       "\n",
       "       [[1.2658973]],\n",
       "\n",
       "       [[1.2662745]],\n",
       "\n",
       "       [[1.2665565]],\n",
       "\n",
       "       [[1.2667344]],\n",
       "\n",
       "       [[1.2668004]],\n",
       "\n",
       "       [[1.2667493]],\n",
       "\n",
       "       [[1.266578 ]],\n",
       "\n",
       "       [[1.2662704]],\n",
       "\n",
       "       [[1.2658361]],\n",
       "\n",
       "       [[1.2652832]],\n",
       "\n",
       "       [[1.2646246]],\n",
       "\n",
       "       [[1.2638756]],\n",
       "\n",
       "       [[1.2630539]],\n",
       "\n",
       "       [[1.2621787]],\n",
       "\n",
       "       [[1.2611675]],\n",
       "\n",
       "       [[1.2601409]],\n",
       "\n",
       "       [[1.2591195]],\n",
       "\n",
       "       [[1.2581204]],\n",
       "\n",
       "       [[1.2571548]],\n",
       "\n",
       "       [[1.2562298]],\n",
       "\n",
       "       [[1.2553477]],\n",
       "\n",
       "       [[1.2545722]],\n",
       "\n",
       "       [[1.2537552]],\n",
       "\n",
       "       [[1.2529529]],\n",
       "\n",
       "       [[1.2521594]],\n",
       "\n",
       "       [[1.2513688]],\n",
       "\n",
       "       [[1.2505742]],\n",
       "\n",
       "       [[1.2497694]],\n",
       "\n",
       "       [[1.2491039]],\n",
       "\n",
       "       [[1.2484142]],\n",
       "\n",
       "       [[1.2476975]],\n",
       "\n",
       "       [[1.246951 ]],\n",
       "\n",
       "       [[1.2461721]],\n",
       "\n",
       "       [[1.2452427]],\n",
       "\n",
       "       [[1.245344 ]],\n",
       "\n",
       "       [[1.2454447]],\n",
       "\n",
       "       [[1.2455444]],\n",
       "\n",
       "       [[1.2456434]],\n",
       "\n",
       "       [[1.2469354]],\n",
       "\n",
       "       [[1.2481898]],\n",
       "\n",
       "       [[1.2494121]],\n",
       "\n",
       "       [[1.2506083]],\n",
       "\n",
       "       [[1.2517842]],\n",
       "\n",
       "       [[1.2528095]],\n",
       "\n",
       "       [[1.2538168]],\n",
       "\n",
       "       [[1.254809 ]],\n",
       "\n",
       "       [[1.2557883]],\n",
       "\n",
       "       [[1.2567569]],\n",
       "\n",
       "       [[1.2582062]],\n",
       "\n",
       "       [[1.2598084]],\n",
       "\n",
       "       [[1.2615839]],\n",
       "\n",
       "       [[1.2635442]],\n",
       "\n",
       "       [[1.2656835]],\n",
       "\n",
       "       [[1.2672821]],\n",
       "\n",
       "       [[1.2689115]],\n",
       "\n",
       "       [[1.2705553]],\n",
       "\n",
       "       [[1.2721906]],\n",
       "\n",
       "       [[1.2737908]],\n",
       "\n",
       "       [[1.2759848]],\n",
       "\n",
       "       [[1.2779298]],\n",
       "\n",
       "       [[1.2795095]],\n",
       "\n",
       "       [[1.2806356]],\n",
       "\n",
       "       [[1.281107 ]],\n",
       "\n",
       "       [[1.2814513]],\n",
       "\n",
       "       [[1.2816631]],\n",
       "\n",
       "       [[1.2817371]],\n",
       "\n",
       "       [[1.2816691]],\n",
       "\n",
       "       [[1.2812415]],\n",
       "\n",
       "       [[1.2805153]],\n",
       "\n",
       "       [[1.2795312]],\n",
       "\n",
       "       [[1.2783322]],\n",
       "\n",
       "       [[1.2769614]],\n",
       "\n",
       "       [[1.275246 ]],\n",
       "\n",
       "       [[1.2747989]],\n",
       "\n",
       "       [[1.2743495]],\n",
       "\n",
       "       [[1.2739081]],\n",
       "\n",
       "       [[1.2734859]],\n",
       "\n",
       "       [[1.2736034]],\n",
       "\n",
       "       [[1.2737213]],\n",
       "\n",
       "       [[1.2738391]],\n",
       "\n",
       "       [[1.2739574]],\n",
       "\n",
       "       [[1.2740757]],\n",
       "\n",
       "       [[1.2741942]],\n",
       "\n",
       "       [[1.2746263]],\n",
       "\n",
       "       [[1.275069 ]],\n",
       "\n",
       "       [[1.2755189]],\n",
       "\n",
       "       [[1.2759728]],\n",
       "\n",
       "       [[1.2762064]],\n",
       "\n",
       "       [[1.2764403]],\n",
       "\n",
       "       [[1.2766738]],\n",
       "\n",
       "       [[1.2769073]],\n",
       "\n",
       "       [[1.2771401]],\n",
       "\n",
       "       [[1.2772568]],\n",
       "\n",
       "       [[1.2773736]],\n",
       "\n",
       "       [[1.2774899]],\n",
       "\n",
       "       [[1.2776064]],\n",
       "\n",
       "       [[1.2777226]],\n",
       "\n",
       "       [[1.2777951]],\n",
       "\n",
       "       [[1.2777951]],\n",
       "\n",
       "       [[1.2777951]]], dtype=float32)"
      ]
     },
     "execution_count": 1005,
     "metadata": {},
     "output_type": "execute_result"
    }
   ],
   "source": [
    "y_test_pred"
   ]
  },
  {
   "cell_type": "markdown",
   "metadata": {},
   "source": [
    "## 2.Data Cleaning"
   ]
  },
  {
   "cell_type": "markdown",
   "metadata": {},
   "source": [
    "### 2.1.Remove punctuations"
   ]
  },
  {
   "cell_type": "markdown",
   "metadata": {},
   "source": [
    "### 2.2 Word Replacement\n",
    "### 2.3 Remove stopwords¶\n",
    "### 2.4 Stemming/Lammetization - Tranforming any form of a word to its root word¶\n",
    "### 2.5.a Stemming\n",
    "### 2.5.b Lemmatization\n",
    "### 2.6 plots"
   ]
  },
  {
   "cell_type": "code",
   "execution_count": null,
   "metadata": {},
   "outputs": [],
   "source": []
  },
  {
   "cell_type": "code",
   "execution_count": null,
   "metadata": {},
   "outputs": [],
   "source": []
  },
  {
   "cell_type": "code",
   "execution_count": null,
   "metadata": {},
   "outputs": [],
   "source": []
  },
  {
   "cell_type": "code",
   "execution_count": null,
   "metadata": {},
   "outputs": [],
   "source": []
  },
  {
   "cell_type": "code",
   "execution_count": null,
   "metadata": {},
   "outputs": [],
   "source": []
  },
  {
   "cell_type": "code",
   "execution_count": null,
   "metadata": {},
   "outputs": [],
   "source": []
  },
  {
   "cell_type": "code",
   "execution_count": null,
   "metadata": {},
   "outputs": [],
   "source": []
  },
  {
   "cell_type": "code",
   "execution_count": null,
   "metadata": {},
   "outputs": [],
   "source": []
  },
  {
   "cell_type": "code",
   "execution_count": null,
   "metadata": {},
   "outputs": [],
   "source": []
  },
  {
   "cell_type": "code",
   "execution_count": null,
   "metadata": {},
   "outputs": [],
   "source": []
  },
  {
   "cell_type": "code",
   "execution_count": null,
   "metadata": {},
   "outputs": [],
   "source": []
  },
  {
   "cell_type": "code",
   "execution_count": null,
   "metadata": {},
   "outputs": [],
   "source": []
  },
  {
   "cell_type": "code",
   "execution_count": null,
   "metadata": {},
   "outputs": [],
   "source": []
  },
  {
   "cell_type": "code",
   "execution_count": null,
   "metadata": {},
   "outputs": [],
   "source": []
  },
  {
   "cell_type": "code",
   "execution_count": null,
   "metadata": {},
   "outputs": [],
   "source": []
  },
  {
   "cell_type": "code",
   "execution_count": null,
   "metadata": {},
   "outputs": [],
   "source": []
  },
  {
   "cell_type": "code",
   "execution_count": null,
   "metadata": {},
   "outputs": [],
   "source": []
  },
  {
   "cell_type": "code",
   "execution_count": null,
   "metadata": {},
   "outputs": [],
   "source": []
  },
  {
   "cell_type": "code",
   "execution_count": null,
   "metadata": {},
   "outputs": [],
   "source": []
  },
  {
   "cell_type": "code",
   "execution_count": null,
   "metadata": {},
   "outputs": [],
   "source": []
  },
  {
   "cell_type": "code",
   "execution_count": null,
   "metadata": {},
   "outputs": [],
   "source": []
  },
  {
   "cell_type": "code",
   "execution_count": null,
   "metadata": {},
   "outputs": [],
   "source": []
  }
 ],
 "metadata": {
  "kernelspec": {
   "display_name": "Python 3 (ipykernel)",
   "language": "python",
   "name": "python3"
  },
  "language_info": {
   "codemirror_mode": {
    "name": "ipython",
    "version": 3
   },
   "file_extension": ".py",
   "mimetype": "text/x-python",
   "name": "python",
   "nbconvert_exporter": "python",
   "pygments_lexer": "ipython3",
   "version": "3.9.7"
  },
  "vscode": {
   "interpreter": {
    "hash": "3b02aee9f20c67041d13f5c1c22b013558a13ad2b5510cad6dbb92482025c452"
   }
  }
 },
 "nbformat": 4,
 "nbformat_minor": 4
}
